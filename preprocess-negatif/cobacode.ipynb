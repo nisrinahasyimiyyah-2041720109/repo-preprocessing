{
 "cells": [
  {
   "cell_type": "code",
   "execution_count": 2,
   "metadata": {},
   "outputs": [
    {
     "name": "stdout",
     "output_type": "stream",
     "text": [
      "                                              Review\n",
      "0  baru pertama kali coba kebetulan cowok pas lag...\n"
     ]
    }
   ],
   "source": [
    "import re\n",
    "import pandas as pd\n",
    "\n",
    "# Contoh DataFrame\n",
    "data = {'Review': ['baru pertama kali coba kebetulan cowok pas lagi diskon jadi  saja semoga cocok sih']}\n",
    "df = pd.DataFrame(data)\n",
    "\n",
    "# Fungsi untuk menghilangkan kelebihan spasi di antara kata-kata\n",
    "def remove_extra_spaces(text):\n",
    "    return re.sub(r'\\s+', ' ', text).strip()\n",
    "\n",
    "# Menggunakan fungsi pada kolom 'Review'\n",
    "df['Review'] = df['Review'].apply(remove_extra_spaces)\n",
    "\n",
    "# Cetak DataFrame setelah menghapus kelebihan spasi\n",
    "print(df)"
   ]
  },
  {
   "cell_type": "code",
   "execution_count": 3,
   "metadata": {},
   "outputs": [],
   "source": [
    "# import hasil cleaning menjadi csv\n",
    "df.to_csv(\"cobacode.csv\")"
   ]
  },
  {
   "cell_type": "code",
   "execution_count": 4,
   "metadata": {},
   "outputs": [
    {
     "name": "stdout",
     "output_type": "stream",
     "text": [
      "              Review\n",
      "0  Review yang valid\n"
     ]
    }
   ],
   "source": [
    "import pandas as pd\n",
    "import re\n",
    "\n",
    "# Contoh DataFrame\n",
    "data = {'Review': ['hbdbdbsjsjsjsnzjjsbsbsbshsbsbsjsjsjsnsjdnsndjxnenxjsibdhfhanwbzjx', 'Review yang valid']}\n",
    "df = pd.DataFrame(data)\n",
    "\n",
    "# Fungsi untuk menghapus baris dengan huruf yang berulang dan panjang\n",
    "def remove_rows_with_repeated_letters_and_length(df, column, threshold_length):\n",
    "    return df[df[column].apply(lambda x: not (bool(re.search(r'(.)\\1', x)) and len(x) >= threshold_length))].reset_index(drop=True)\n",
    "\n",
    "# Tentukan ambang panjang huruf yang dianggap valid\n",
    "threshold_length = 10  # Ubah sesuai kebutuhan\n",
    "\n",
    "# Terapkan fungsi pada DataFrame\n",
    "df_filtered = remove_rows_with_repeated_letters_and_length(df, 'Review', threshold_length)\n",
    "\n",
    "# Cetak DataFrame setelah menghapus baris dengan huruf yang berulang dan panjang\n",
    "print(df_filtered)\n"
   ]
  },
  {
   "cell_type": "code",
   "execution_count": 1,
   "metadata": {},
   "outputs": [],
   "source": [
    "import pandas as pd\n",
    "import re\n",
    "\n",
    "# Baca data dari file CSV\n",
    "df = pd.read_csv('scraping_somethinc.csv')\n",
    "\n",
    "# Fungsi untuk menghapus string acak dari suatu baris\n",
    "def remove_random_strings(text):\n",
    "    return re.sub(r'[a-zA-Z]+', '', text)\n",
    "\n",
    "# Terapkan fungsi pada kolom yang berisi string acak\n",
    "df['Review'] = df['Review'].apply(remove_random_strings)\n",
    "\n",
    "# Hapus baris yang sepenuhnya terdiri dari string acak\n",
    "df = df[df['Review'].str.strip() != '']\n",
    "\n",
    "# Simpan DataFrame yang telah diperbarui ke file CSV baru\n",
    "df.to_csv('nama_file_cleaned.csv', index=False)\n"
   ]
  },
  {
   "cell_type": "code",
   "execution_count": 4,
   "metadata": {},
   "outputs": [],
   "source": [
    "import pandas as pd\n",
    "import re\n",
    "\n",
    "# Baca data dari file CSV\n",
    "df = pd.read_csv('scraping_somethinc.csv')\n",
    "\n",
    "# Fungsi untuk menghapus string acak dari suatu baris\n",
    "def remove_random_strings(text):\n",
    "    return re.sub(r'\\b[a-zA-Z]+\\b', '', text)\n",
    "\n",
    "# Terapkan fungsi pada kolom yang berisi string acak\n",
    "df['Review'] = df['Review'].apply(remove_random_strings)\n",
    "\n",
    "# Hapus baris yang sepenuhnya terdiri dari string acak\n",
    "df = df[df['Review'].str.strip() != '']\n",
    "\n",
    "# Simpan DataFrame yang telah diperbarui ke file CSV baru\n",
    "df.to_csv('nama_file_cleaned.csv', index=False)"
   ]
  },
  {
   "cell_type": "code",
   "execution_count": 6,
   "metadata": {},
   "outputs": [],
   "source": [
    "import pandas as pd\n",
    "\n",
    "def clean_csv(input_file, output_file):\n",
    "    # Membaca file CSV\n",
    "    df = pd.read_csv(input_file)\n",
    "\n",
    "    # Fungsi untuk mengecek apakah string bermakna atau acak\n",
    "    def is_meaningful(text):\n",
    "        # Implementasikan logika untuk menentukan apakah string bermakna\n",
    "        # Contoh sederhana: Anggaplah string yang panjangnya kurang dari 10 karakter sebagai tidak bermakna\n",
    "        return len(text) >= 16\n",
    "\n",
    "    # Menyaring baris dengan string yang tidak bermakna\n",
    "    df = df[df['Review'].apply(is_meaningful)]\n",
    "\n",
    "    # Menyimpan hasil ke file CSV baru\n",
    "    df.to_csv(output_file, index=False)\n",
    "\n",
    "if __name__ == \"__main__\":\n",
    "    input_file = 'scraping_somethinc.csv'  # Ganti dengan nama file CSV yang sesuai\n",
    "    output_file = 'output.csv'  # Ganti dengan nama file CSV keluaran\n",
    "\n",
    "    clean_csv(input_file, output_file)\n"
   ]
  },
  {
   "cell_type": "code",
   "execution_count": 7,
   "metadata": {},
   "outputs": [],
   "source": [
    "import pandas as pd\n",
    "\n",
    "def clean_csv(input_file, output_file):\n",
    "    # Membaca file CSV\n",
    "    df = pd.read_csv(input_file)\n",
    "\n",
    "    # Fungsi untuk mengecek apakah string sepenuhnya acak\n",
    "    def is_random_string(text):\n",
    "        # Implementasikan logika untuk menentukan apakah string sepenuhnya acak\n",
    "        # Contoh sederhana: Anggaplah string yang hanya terdiri dari huruf atau angka sebagai acak\n",
    "        return not any(c.isalpha() or c.isdigit() for c in text)\n",
    "\n",
    "    # Menyaring baris dengan string yang sepenuhnya acak\n",
    "    df = df[df['Review'].apply(is_random_string)]\n",
    "\n",
    "    # Menyimpan hasil ke file CSV baru\n",
    "    df.to_csv(output_file, index=False)\n",
    "\n",
    "if __name__ == \"__main__\":\n",
    "    input_file = 'scraping_somethinc.csv'  # Ganti dengan nama file CSV yang sesuai\n",
    "    output_file = 'output.csv'  # Ganti dengan nama file CSV keluaran\n",
    "\n",
    "    clean_csv(input_file, output_file)\n"
   ]
  },
  {
   "cell_type": "code",
   "execution_count": 2,
   "metadata": {},
   "outputs": [],
   "source": [
    "import pandas as pd\n",
    "import re\n",
    "\n",
    "def clean_csv(input_file, output_file):\n",
    "    # Membaca file CSV\n",
    "    df = pd.read_csv(input_file)\n",
    "\n",
    "    # Fungsi untuk mengecek apakah string sepenuhnya acak\n",
    "    def is_not_random_string(text):\n",
    "        return not bool(re.match(r'^[^\\w\\s]+$', text))\n",
    "\n",
    "    # Menyaring baris dengan string yang bukan sepenuhnya acak\n",
    "    df = df[df['Review'].apply(is_not_random_string)]\n",
    "\n",
    "    # Menyimpan hasil ke file CSV baru\n",
    "    df.to_csv(output_file, index=False)\n",
    "\n",
    "if __name__ == \"__main__\":\n",
    "    input_file = 'scraping_somethinc.csv'  # Ganti dengan nama file CSV yang sesuai\n",
    "    output_file = 'output.csv'  # Ganti dengan nama file CSV keluaran\n",
    "\n",
    "    clean_csv(input_file, output_file)\n"
   ]
  },
  {
   "cell_type": "code",
   "execution_count": 42,
   "metadata": {},
   "outputs": [],
   "source": [
    "import pandas as pd\n",
    "import langid\n",
    "\n",
    "def clean_csv(input_file, output_file):\n",
    "    # Membaca file CSV\n",
    "    df = pd.read_csv(input_file)\n",
    "\n",
    "    # Menentukan ambang batas panjang string acak\n",
    "    threshold_length = 20\n",
    "\n",
    "    # Fungsi untuk menghapus string acak berdasarkan panjangnya\n",
    "    def hapus_string_acak_dengan_panjang(text):\n",
    "        # Memeriksa panjang string dan menghapus jika melebihi ambang batas\n",
    "        return ' '.join(word for word in text.split() if len(word) <= threshold_length)\n",
    "\n",
    "    # Menggunakan fungsi untuk menghapus string acak pada kolom 'Text'\n",
    "    df['Review'] = df['Review'].apply(hapus_string_acak_dengan_panjang)\n",
    "\n",
    "    # Menyimpan hasil ke file CSV baru\n",
    "    df.to_csv(output_file, index=False)\n",
    "\n",
    "if __name__ == \"__main__\":\n",
    "    input_file = 'scraping_somethinc.csv'  # Ganti dengan nama file CSV yang sesuai\n",
    "    output_file = 'output.csv'  # Ganti dengan nama file CSV keluaran\n",
    "\n",
    "    clean_csv(input_file, output_file)\n"
   ]
  },
  {
   "cell_type": "code",
   "execution_count": 19,
   "metadata": {},
   "outputs": [
    {
     "name": "stdout",
     "output_type": "stream",
     "text": [
      "                             Text\n",
      "0  Ini adalah kalimat yang benar.\n",
      "1                                \n",
      "2    Ini lagi kalimat yang benar.\n",
      "3                    String acak \n"
     ]
    }
   ],
   "source": [
    "import pandas as pd\n",
    "import re\n",
    "\n",
    "# Contoh DataFrame\n",
    "data = {'Text': ['Ini adalah kalimat yang benar.',\n",
    "                 'hbdbdbsjsjsjsnzjjsbsbsbshsbsbsjsjsjsnsjdnsndjxnenxjsibdhfhanwbzjx',\n",
    "                 'Ini lagi kalimat yang benar.',\n",
    "                 'String acak hbdbdbsjsjsjsnzjjsbsbsbshsbsbsjsjsjsnsjdnsndjxnenxjsibdhfhanwbzjx']}\n",
    "df = pd.DataFrame(data)\n",
    "\n",
    "# Fungsi untuk menghapus string acak menggunakan regex\n",
    "def remove_random_string(text):\n",
    "    return re.sub(r'\\bhbdbdbsjsjsjsnzjjsbsbsbshsbsbsjsjsjsnsjdnsndjxnenxjsibdhfhanwbzjx\\b', '', text)\n",
    "\n",
    "# Terapkan fungsi pada kolom 'Text'\n",
    "df['Text'] = df['Text'].apply(remove_random_string)\n",
    "\n",
    "# Tampilkan DataFrame hasil\n",
    "print(df)\n"
   ]
  },
  {
   "cell_type": "code",
   "execution_count": 40,
   "metadata": {},
   "outputs": [
    {
     "name": "stdout",
     "output_type": "stream",
     "text": [
      "                             Text\n",
      "0  Ini adalah kalimat yang benar.\n",
      "1                                \n",
      "2             String acak lainnya\n",
      "3    Ini lagi kalimat yang benar.\n",
      "4                String acak lagi\n"
     ]
    }
   ],
   "source": [
    "import pandas as pd\n",
    "\n",
    "# Membuat dataframe\n",
    "data = {'Text': ['Ini adalah kalimat yang benar.',\n",
    "                 'hbdbdbsjsjsjsnzjjsbsbsbshsbsbsjsjsjsnsjdnsndjxnenxjsibdhfhanwbzjx',\n",
    "                 'String acak lainnya xyz123xyz456xyz789xyz',\n",
    "                 'Ini lagi kalimat yang benar.',\n",
    "                 'String acak lagi abc123abc456abc789abc']}\n",
    "\n",
    "df = pd.DataFrame(data)\n",
    "\n",
    "# Menentukan ambang batas panjang string acak\n",
    "threshold_length = 20\n",
    "\n",
    "# Fungsi untuk menghapus string acak berdasarkan panjangnya\n",
    "def hapus_string_acak_dengan_panjang(text):\n",
    "    # Memeriksa panjang string dan menghapus jika melebihi ambang batas\n",
    "    return ' '.join(word for word in text.split() if len(word) <= threshold_length)\n",
    "\n",
    "# Menggunakan fungsi untuk menghapus string acak pada kolom 'Text'\n",
    "df['Text'] = df['Text'].apply(hapus_string_acak_dengan_panjang)\n",
    "\n",
    "# Menampilkan dataframe setelah penghapusan string acak\n",
    "print(df)\n"
   ]
  },
  {
   "cell_type": "code",
   "execution_count": 7,
   "metadata": {},
   "outputs": [
    {
     "name": "stdout",
     "output_type": "stream",
     "text": [
      "Review setelah dihapus konteks tertawa: Produk ini luar biasa! , sangat menyenangkan untuk digunakan. , , sangat lucu. \n"
     ]
    }
   ],
   "source": [
    "import re\n",
    "\n",
    "def remove_laughter(text):\n",
    "    laughter_patterns = r'\\b((ha)+h*|(he)+h*|(hi)+h*|(wk)+w*k*|(hem)+m*)\\b'\n",
    "    return re.sub(laughter_patterns, '', text, flags=re.IGNORECASE)\n",
    "\n",
    "# Contoh penggunaan:\n",
    "review = \"Produk ini luar biasa! Hehehehe, sangat menyenangkan untuk digunakan. Hahahahah, hahaha, sangat lucu. Heheheh\"\n",
    "review_cleaned = remove_laughter(review)\n",
    "print(\"Review setelah dihapus konteks tertawa:\", review_cleaned)\n"
   ]
  }
 ],
 "metadata": {
  "kernelspec": {
   "display_name": "Python 3",
   "language": "python",
   "name": "python3"
  },
  "language_info": {
   "codemirror_mode": {
    "name": "ipython",
    "version": 3
   },
   "file_extension": ".py",
   "mimetype": "text/x-python",
   "name": "python",
   "nbconvert_exporter": "python",
   "pygments_lexer": "ipython3",
   "version": "3.9.7"
  }
 },
 "nbformat": 4,
 "nbformat_minor": 2
}
